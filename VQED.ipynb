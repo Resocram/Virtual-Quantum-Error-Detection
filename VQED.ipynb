{
 "cells": [
  {
   "cell_type": "code",
   "execution_count": 2,
   "metadata": {},
   "outputs": [],
   "source": [
    "# imported dependencies\n",
    "import pennylane as qml\n",
    "from itertools import product\n",
    "import numpy as np\n",
    "import random\n"
   ]
  },
  {
   "cell_type": "code",
   "execution_count": 3,
   "metadata": {},
   "outputs": [],
   "source": [
    "def generate_density_matrix():\n",
    "\n",
    "    # this is the hadamard shit\n",
    "    c1 = 1/np.sqrt(2)\n",
    "    c2 = 1/np.sqrt(2)\n",
    "    state = np.array([0.5, 0, 0.5, 0, 0, 0.5, 0, 0.5])\n",
    "    \n",
    "    # generate the density matrix\n",
    "    rho = np.outer(state, np.conj(state).T)\n",
    "    return rho"
   ]
  },
  {
   "cell_type": "code",
   "execution_count": 4,
   "metadata": {},
   "outputs": [],
   "source": [
    "L = 3\n",
    "rho_naught = generate_density_matrix()\n",
    "estimation_wires = list(range(0, L))\n",
    "target_wires = list(range(L, L+3))\n",
    "\n",
    "dev = qml.device(\"default.mixed\", wires=(len(estimation_wires+target_wires)))\n",
    "\n",
    "@qml.qnode(dev)\n",
    "def VQED(stabilizer_list, unitary_list):\n",
    "    # stabilizer list is same len as estimation wires\n",
    "\n",
    "    # initialize target and estimation wires\n",
    "    qml.QubitDensityMatrix(rho_naught, wires=target_wires)   \n",
    "    for wire in estimation_wires:\n",
    "        qml.Hadamard(wires=wire)\n",
    "\n",
    "    for l in estimation_wires:\n",
    "        # get the 3 unitary matries \n",
    "        s_i = stabilizer_list[l][0]\n",
    "        s_j = stabilizer_list[l][1]\n",
    "        U = unitary_list[l]\n",
    "    \n",
    "        # apply the gates \n",
    "        qml.QubitUnitary(U, wires=target_wires)\n",
    "        qml.BitFlip(0.5,wires=[0])\n",
    "        qml.ControlledQubitUnitary(s_i, control_wires=estimation_wires[l], wires=target_wires, control_values=\"0\")\n",
    "        qml.ControlledQubitUnitary(s_j, control_wires=estimation_wires[l], wires=target_wires, control_values=\"1\")\n",
    "\n",
    "    return qml.expval(qml.PauliX(0) @ qml.PauliX(1) @ qml.PauliX(2)), qml.expval(qml.Hadamard(3) @ qml.PauliX(4) @ qml.Hadamard(5))\n"
   ]
  },
  {
   "cell_type": "code",
   "execution_count": 5,
   "metadata": {},
   "outputs": [
    {
     "name": "stdout",
     "output_type": "stream",
     "text": [
      "0.25000000000001454\n",
      "-0.12500000000001457\n",
      "-0.5000000000000292\n"
     ]
    }
   ],
   "source": [
    "U1 = qml.PauliZ(0) @ qml.Identity(1) @ qml.Identity(2)\n",
    "U1 = U1.matrix()\n",
    "U2 = qml.Identity(0) @ qml.PauliZ(1) @ qml.Identity(2)\n",
    "U2 = U2.matrix()\n",
    "U3 = qml.Identity(0) @ qml.Identity(1) @ qml.PauliZ(2)\n",
    "U3 = U3.matrix()\n",
    "U_list = [U1, U2, U3]\n",
    "# L = 3\n",
    "\n",
    "G1 = (qml.Identity(0) @ qml.PauliZ(1) @ qml.PauliZ(2)).matrix()\n",
    "G2 = (qml.PauliZ(0) @ qml.PauliZ(1) @ qml.Identity(2)).matrix()\n",
    "I = (qml.Identity(0) @ qml.Identity(1) @ qml.Identity(2)).matrix()\n",
    "S = [G1, G2, G1 @ G2, I]\n",
    "\n",
    "a = 0\n",
    "b = 0\n",
    "N = 4\n",
    "for s in range(N):\n",
    "    s_sample = [random.sample(S,2),random.sample(S,2),random.sample(S,2)]\n",
    "    a_s, O_measurement = VQED(s_sample, U_list)\n",
    "    b_s = a_s * O_measurement\n",
    "    a += a_s\n",
    "    b += b_s\n",
    "\n",
    "a = a/N\n",
    "b = b/N\n",
    "print(a)\n",
    "print(b)\n",
    "print(b/a)"
   ]
  },
  {
   "cell_type": "code",
   "execution_count": null,
   "metadata": {},
   "outputs": [],
   "source": []
  }
 ],
 "metadata": {
  "kernelspec": {
   "display_name": "base",
   "language": "python",
   "name": "python3"
  },
  "language_info": {
   "codemirror_mode": {
    "name": "ipython",
    "version": 3
   },
   "file_extension": ".py",
   "mimetype": "text/x-python",
   "name": "python",
   "nbconvert_exporter": "python",
   "pygments_lexer": "ipython3",
   "version": "3.9.12"
  },
  "orig_nbformat": 4
 },
 "nbformat": 4,
 "nbformat_minor": 2
}
