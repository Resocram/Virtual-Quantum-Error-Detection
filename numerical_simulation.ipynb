{
 "cells": [
  {
   "cell_type": "code",
   "execution_count": 8,
   "metadata": {},
   "outputs": [
    {
     "data": {
      "text/plain": [
       "'0.29.1'"
      ]
     },
     "execution_count": 8,
     "metadata": {},
     "output_type": "execute_result"
    }
   ],
   "source": [
    "# imported dependencies\n",
    "import pennylane as qml\n",
    "from itertools import product\n",
    "import numpy as np\n",
    "import numpy.random as random\n",
    "import stabilizer as stabilizers\n",
    "qml.version()"
   ]
  },
  {
   "cell_type": "markdown",
   "metadata": {
    "slideshow": {
     "slide_type": "notes"
    }
   },
   "source": [
    "<img src=\"numerical_sim.png\" alt=\"Drawing\" style=\"height: 200px;\"/>\n"
   ]
  },
  {
   "cell_type": "code",
   "execution_count": 17,
   "metadata": {},
   "outputs": [],
   "source": [
    "def get_unitary_gate(ZL, XL):\n",
    "  theta_i = random.uniform(0, 2*np.pi)\n",
    "  theta_i_prime = random.uniform(0, 2*np.pi)\n",
    "  return np.exp(1j * theta_i * ZL) * np.exp(1j * theta_i_prime * XL)"
   ]
  },
  {
   "cell_type": "code",
   "execution_count": 24,
   "metadata": {},
   "outputs": [
    {
     "name": "stdout",
     "output_type": "stream",
     "text": [
      "ok\n"
     ]
    }
   ],
   "source": [
    "test = stabilizers.get_4_1_2()\n",
    "\n",
    "XL = test[-1]\n",
    "ZL = test[-2]\n",
    "\n",
    "get_unitary_gate(ZL, XL)\n",
    "print(\"ok\")"
   ]
  }
 ],
 "metadata": {
  "kernelspec": {
   "display_name": ".venv",
   "language": "python",
   "name": "python3"
  },
  "language_info": {
   "codemirror_mode": {
    "name": "ipython",
    "version": 3
   },
   "file_extension": ".py",
   "mimetype": "text/x-python",
   "name": "python",
   "nbconvert_exporter": "python",
   "pygments_lexer": "ipython3",
   "version": "3.9.6"
  },
  "orig_nbformat": 4,
  "vscode": {
   "interpreter": {
    "hash": "47873b1648fe905b12a0e1a7e272f20bf6e3da3e7441817495b1ef9ddbb38a05"
   }
  }
 },
 "nbformat": 4,
 "nbformat_minor": 2
}
