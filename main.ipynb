{
 "cells": [
  {
   "cell_type": "code",
   "execution_count": 32,
   "metadata": {},
   "outputs": [],
   "source": [
    "# imported dependencies\n",
    "import pennylane as qml\n",
    "from itertools import product\n",
    "import numpy as np"
   ]
  },
  {
   "cell_type": "code",
   "execution_count": 57,
   "metadata": {},
   "outputs": [
    {
     "name": "stdout",
     "output_type": "stream",
     "text": [
      "Identity(wires=[0])\n",
      "PauliZ(wires=[1])\n",
      "PauliZ(wires=[0])\n",
      "PauliZ(wires=[0]) @ PauliZ(wires=[1])\n",
      "PauliX(wires=[1])\n",
      "PauliY(wires=[1])\n",
      "PauliZ(wires=[0]) @ PauliX(wires=[1])\n",
      "PauliZ(wires=[0]) @ PauliY(wires=[1])\n",
      "PauliX(wires=[0])\n",
      "PauliX(wires=[0]) @ PauliZ(wires=[1])\n",
      "PauliY(wires=[0])\n",
      "PauliY(wires=[0]) @ PauliZ(wires=[1])\n",
      "PauliX(wires=[0]) @ PauliX(wires=[1])\n",
      "PauliX(wires=[0]) @ PauliY(wires=[1])\n",
      "PauliY(wires=[0]) @ PauliX(wires=[1])\n",
      "PauliY(wires=[0]) @ PauliY(wires=[1])\n"
     ]
    }
   ],
   "source": [
    "from pennylane.pauli import pauli_group\n",
    "n_qubits = 2\n",
    "for p in pauli_group(n_qubits):\n",
    "\n",
    "    matrix = qml.matrix(p)\n",
    "    identityMatrix = -np.identity(matrix.shape[0])\n",
    "    # isNegative = np.allclose(matrix,identityMatrix)\n",
    "    # if isNegative:\n",
    "    #     print(\"wow\")\n",
    "    #print(qml.matrix(p))\n",
    "    print(p)\n"
   ]
  },
  {
   "cell_type": "code",
   "execution_count": 227,
   "metadata": {},
   "outputs": [],
   "source": [
    "## 2-qubit Pauli Group\n",
    "# Encode 1 logical qubit into 2 physical qubits\n",
    "S1 = qml.PauliX(wires=[0]) @ qml.PauliZ(wires=[1])\n",
    "S2 = qml.PauliZ(wires=[1]) @ qml.Identity(wires=[0])\n",
    "qml.is_commuting(S1,S2)\n",
    "# Stabilizer group aka bodyguard\n",
    "S = [qml.matrix(S1),qml.matrix(S2)]\n",
    "P = 1/2 * (S[0] + S[1])\n",
    "#P = qml.Hermitian(P,wires=[0,1])\n",
    "G1 = S1\n"
   ]
  },
  {
   "cell_type": "code",
   "execution_count": 235,
   "metadata": {},
   "outputs": [
    {
     "ename": "QuantumFunctionError",
     "evalue": "A quantum function must return either a single measurement, or a nonempty sequence of measurements.",
     "output_type": "error",
     "traceback": [
      "\u001b[1;31m---------------------------------------------------------------------------\u001b[0m",
      "\u001b[1;31mQuantumFunctionError\u001b[0m                      Traceback (most recent call last)",
      "Cell \u001b[1;32mIn[235], line 18\u001b[0m\n\u001b[0;32m     14\u001b[0m     qml\u001b[39m.\u001b[39mctrl(G1,control\u001b[39m=\u001b[39mwires[\u001b[39m1\u001b[39m])(wires\u001b[39m=\u001b[39mwires[\u001b[39m0\u001b[39m])\n\u001b[0;32m     15\u001b[0m     \u001b[39mreturn\u001b[39;00m qml\u001b[39m.\u001b[39mmeasure(\u001b[39m1\u001b[39m)\n\u001b[1;32m---> 18\u001b[0m hadamard_test(wires\u001b[39m=\u001b[39;49m[\u001b[39m0\u001b[39;49m,\u001b[39m1\u001b[39;49m])\n\u001b[0;32m     20\u001b[0m \u001b[39m#p = create_entangled_state([0])\u001b[39;00m\n\u001b[0;32m     21\u001b[0m \u001b[39m#num = np.matmul(np.matmul(P,p),P)\u001b[39;00m\n\u001b[0;32m     22\u001b[0m \u001b[39m# den = np.sum(np.matmul(p,P))\u001b[39;00m\n\u001b[0;32m     23\u001b[0m \u001b[39m# pDet = num/den\u001b[39;00m\n\u001b[0;32m     24\u001b[0m \u001b[39m# print(p)\u001b[39;00m\n\u001b[0;32m     25\u001b[0m \u001b[39m# print(pDet)\u001b[39;00m\n",
      "File \u001b[1;32m~\\AppData\\Local\\Packages\\PythonSoftwareFoundation.Python.3.9_qbz5n2kfra8p0\\LocalCache\\local-packages\\Python39\\site-packages\\pennylane\\qnode.py:800\u001b[0m, in \u001b[0;36mQNode.__call__\u001b[1;34m(self, *args, **kwargs)\u001b[0m\n\u001b[0;32m    797\u001b[0m         set_shots(\u001b[39mself\u001b[39m\u001b[39m.\u001b[39m_original_device, override_shots)(\u001b[39mself\u001b[39m\u001b[39m.\u001b[39m_update_gradient_fn)()\n\u001b[0;32m    799\u001b[0m \u001b[39m# construct the tape\u001b[39;00m\n\u001b[1;32m--> 800\u001b[0m \u001b[39mself\u001b[39;49m\u001b[39m.\u001b[39;49mconstruct(args, kwargs)\n\u001b[0;32m    802\u001b[0m cache \u001b[39m=\u001b[39m \u001b[39mself\u001b[39m\u001b[39m.\u001b[39mexecute_kwargs\u001b[39m.\u001b[39mget(\u001b[39m\"\u001b[39m\u001b[39mcache\u001b[39m\u001b[39m\"\u001b[39m, \u001b[39mFalse\u001b[39;00m)\n\u001b[0;32m    803\u001b[0m using_custom_cache \u001b[39m=\u001b[39m (\n\u001b[0;32m    804\u001b[0m     \u001b[39mhasattr\u001b[39m(cache, \u001b[39m\"\u001b[39m\u001b[39m__getitem__\u001b[39m\u001b[39m\"\u001b[39m)\n\u001b[0;32m    805\u001b[0m     \u001b[39mand\u001b[39;00m \u001b[39mhasattr\u001b[39m(cache, \u001b[39m\"\u001b[39m\u001b[39m__setitem__\u001b[39m\u001b[39m\"\u001b[39m)\n\u001b[0;32m    806\u001b[0m     \u001b[39mand\u001b[39;00m \u001b[39mhasattr\u001b[39m(cache, \u001b[39m\"\u001b[39m\u001b[39m__delitem__\u001b[39m\u001b[39m\"\u001b[39m)\n\u001b[0;32m    807\u001b[0m )\n",
      "File \u001b[1;32m~\\AppData\\Local\\Packages\\PythonSoftwareFoundation.Python.3.9_qbz5n2kfra8p0\\LocalCache\\local-packages\\Python39\\site-packages\\pennylane\\qnode.py:711\u001b[0m, in \u001b[0;36mQNode.construct\u001b[1;34m(self, args, kwargs)\u001b[0m\n\u001b[0;32m    708\u001b[0m \u001b[39mdef\u001b[39;00m \u001b[39mconstruct\u001b[39m(\u001b[39mself\u001b[39m, args, kwargs):\n\u001b[0;32m    709\u001b[0m     \u001b[39m\"\"\"Call the quantum function with a tape context, ensuring the operations get queued.\"\"\"\u001b[39;00m\n\u001b[1;32m--> 711\u001b[0m     \u001b[39mself\u001b[39m\u001b[39m.\u001b[39m_tape \u001b[39m=\u001b[39m make_qscript(\u001b[39mself\u001b[39m\u001b[39m.\u001b[39mfunc)(\u001b[39m*\u001b[39margs, \u001b[39m*\u001b[39m\u001b[39m*\u001b[39mkwargs)\n\u001b[0;32m    712\u001b[0m     \u001b[39mself\u001b[39m\u001b[39m.\u001b[39m_tape\u001b[39m.\u001b[39m_queue_category \u001b[39m=\u001b[39m \u001b[39m\"\u001b[39m\u001b[39m_ops\u001b[39m\u001b[39m\"\u001b[39m\n\u001b[0;32m    713\u001b[0m     \u001b[39mself\u001b[39m\u001b[39m.\u001b[39m_qfunc_output \u001b[39m=\u001b[39m \u001b[39mself\u001b[39m\u001b[39m.\u001b[39mtape\u001b[39m.\u001b[39m_qfunc_output\n",
      "File \u001b[1;32m~\\AppData\\Local\\Packages\\PythonSoftwareFoundation.Python.3.9_qbz5n2kfra8p0\\LocalCache\\local-packages\\Python39\\site-packages\\pennylane\\tape\\qscript.py:1346\u001b[0m, in \u001b[0;36mmake_qscript.<locals>.wrapper\u001b[1;34m(*args, **kwargs)\u001b[0m\n\u001b[0;32m   1344\u001b[0m \u001b[39mdef\u001b[39;00m \u001b[39mwrapper\u001b[39m(\u001b[39m*\u001b[39margs, \u001b[39m*\u001b[39m\u001b[39m*\u001b[39mkwargs):\n\u001b[0;32m   1345\u001b[0m     \u001b[39mwith\u001b[39;00m AnnotatedQueue() \u001b[39mas\u001b[39;00m q:\n\u001b[1;32m-> 1346\u001b[0m         result \u001b[39m=\u001b[39m fn(\u001b[39m*\u001b[39margs, \u001b[39m*\u001b[39m\u001b[39m*\u001b[39mkwargs)\n\u001b[0;32m   1348\u001b[0m     qscript \u001b[39m=\u001b[39m QuantumScript\u001b[39m.\u001b[39mfrom_queue(q)\n\u001b[0;32m   1349\u001b[0m     qscript\u001b[39m.\u001b[39m_qfunc_output \u001b[39m=\u001b[39m result\n",
      "Cell \u001b[1;32mIn[235], line 12\u001b[0m, in \u001b[0;36mhadamard_test\u001b[1;34m(wires)\u001b[0m\n\u001b[0;32m     10\u001b[0m \u001b[39m@qml\u001b[39m\u001b[39m.\u001b[39mqnode(dev)\n\u001b[0;32m     11\u001b[0m \u001b[39mdef\u001b[39;00m \u001b[39mhadamard_test\u001b[39m(wires):\n\u001b[1;32m---> 12\u001b[0m     create_entangled_state(wires\u001b[39m=\u001b[39;49m[\u001b[39m0\u001b[39;49m,\u001b[39m1\u001b[39;49m])\n\u001b[0;32m     13\u001b[0m     qml\u001b[39m.\u001b[39mHadamard(wires\u001b[39m=\u001b[39mwires[\u001b[39m1\u001b[39m])\n\u001b[0;32m     14\u001b[0m     qml\u001b[39m.\u001b[39mctrl(G1,control\u001b[39m=\u001b[39mwires[\u001b[39m1\u001b[39m])(wires\u001b[39m=\u001b[39mwires[\u001b[39m0\u001b[39m])\n",
      "File \u001b[1;32m~\\AppData\\Local\\Packages\\PythonSoftwareFoundation.Python.3.9_qbz5n2kfra8p0\\LocalCache\\local-packages\\Python39\\site-packages\\pennylane\\qnode.py:800\u001b[0m, in \u001b[0;36mQNode.__call__\u001b[1;34m(self, *args, **kwargs)\u001b[0m\n\u001b[0;32m    797\u001b[0m         set_shots(\u001b[39mself\u001b[39m\u001b[39m.\u001b[39m_original_device, override_shots)(\u001b[39mself\u001b[39m\u001b[39m.\u001b[39m_update_gradient_fn)()\n\u001b[0;32m    799\u001b[0m \u001b[39m# construct the tape\u001b[39;00m\n\u001b[1;32m--> 800\u001b[0m \u001b[39mself\u001b[39;49m\u001b[39m.\u001b[39;49mconstruct(args, kwargs)\n\u001b[0;32m    802\u001b[0m cache \u001b[39m=\u001b[39m \u001b[39mself\u001b[39m\u001b[39m.\u001b[39mexecute_kwargs\u001b[39m.\u001b[39mget(\u001b[39m\"\u001b[39m\u001b[39mcache\u001b[39m\u001b[39m\"\u001b[39m, \u001b[39mFalse\u001b[39;00m)\n\u001b[0;32m    803\u001b[0m using_custom_cache \u001b[39m=\u001b[39m (\n\u001b[0;32m    804\u001b[0m     \u001b[39mhasattr\u001b[39m(cache, \u001b[39m\"\u001b[39m\u001b[39m__getitem__\u001b[39m\u001b[39m\"\u001b[39m)\n\u001b[0;32m    805\u001b[0m     \u001b[39mand\u001b[39;00m \u001b[39mhasattr\u001b[39m(cache, \u001b[39m\"\u001b[39m\u001b[39m__setitem__\u001b[39m\u001b[39m\"\u001b[39m)\n\u001b[0;32m    806\u001b[0m     \u001b[39mand\u001b[39;00m \u001b[39mhasattr\u001b[39m(cache, \u001b[39m\"\u001b[39m\u001b[39m__delitem__\u001b[39m\u001b[39m\"\u001b[39m)\n\u001b[0;32m    807\u001b[0m )\n",
      "File \u001b[1;32m~\\AppData\\Local\\Packages\\PythonSoftwareFoundation.Python.3.9_qbz5n2kfra8p0\\LocalCache\\local-packages\\Python39\\site-packages\\pennylane\\qnode.py:729\u001b[0m, in \u001b[0;36mQNode.construct\u001b[1;34m(self, args, kwargs)\u001b[0m\n\u001b[0;32m    724\u001b[0m     measurement_processes \u001b[39m=\u001b[39m \u001b[39mself\u001b[39m\u001b[39m.\u001b[39m_qfunc_output\n\u001b[0;32m    726\u001b[0m \u001b[39mif\u001b[39;00m \u001b[39mnot\u001b[39;00m \u001b[39mall\u001b[39m(\n\u001b[0;32m    727\u001b[0m     \u001b[39misinstance\u001b[39m(m, qml\u001b[39m.\u001b[39mmeasurements\u001b[39m.\u001b[39mMeasurementProcess) \u001b[39mfor\u001b[39;00m m \u001b[39min\u001b[39;00m measurement_processes\n\u001b[0;32m    728\u001b[0m ):\n\u001b[1;32m--> 729\u001b[0m     \u001b[39mraise\u001b[39;00m qml\u001b[39m.\u001b[39mQuantumFunctionError(\n\u001b[0;32m    730\u001b[0m         \u001b[39m\"\u001b[39m\u001b[39mA quantum function must return either a single measurement, \u001b[39m\u001b[39m\"\u001b[39m\n\u001b[0;32m    731\u001b[0m         \u001b[39m\"\u001b[39m\u001b[39mor a nonempty sequence of measurements.\u001b[39m\u001b[39m\"\u001b[39m\n\u001b[0;32m    732\u001b[0m     )\n\u001b[0;32m    734\u001b[0m terminal_measurements \u001b[39m=\u001b[39m [\n\u001b[0;32m    735\u001b[0m     m \u001b[39mfor\u001b[39;00m m \u001b[39min\u001b[39;00m \u001b[39mself\u001b[39m\u001b[39m.\u001b[39mtape\u001b[39m.\u001b[39mmeasurements \u001b[39mif\u001b[39;00m \u001b[39mnot\u001b[39;00m \u001b[39misinstance\u001b[39m(m, MidMeasureMP)\n\u001b[0;32m    736\u001b[0m ]\n\u001b[0;32m    737\u001b[0m \u001b[39mif\u001b[39;00m \u001b[39many\u001b[39m(ret \u001b[39m!=\u001b[39m m \u001b[39mfor\u001b[39;00m ret, m \u001b[39min\u001b[39;00m \u001b[39mzip\u001b[39m(measurement_processes, terminal_measurements)):\n",
      "\u001b[1;31mQuantumFunctionError\u001b[0m: A quantum function must return either a single measurement, or a nonempty sequence of measurements."
     ]
    }
   ],
   "source": [
    "dev = qml.device(\"default.qubit\", wires=2, shots=1)\n",
    "@qml.qnode(dev)\n",
    "def create_entangled_state(wires):\n",
    "    #qml.Hadamard(wires=wires[0])\n",
    "    qml.PauliX(wires=wires[0])\n",
    "    qml.PauliY(wires=wires[0])\n",
    "    qml.PauliZ(wires=wires[0])\n",
    "    return qml.state()\n",
    "\n",
    "@qml.qnode(dev)\n",
    "def hadamard_test(wires):\n",
    "    qml.Hadamard(wires=wires[1])\n",
    "    qml.ctrl(G1,control=wires[1])(wires=wires[0])\n",
    "    return qml.measure(1)\n",
    "\n",
    "create_entangled_state(wires=[0,1])\n",
    "hadamard_test(wires=[0,1])\n",
    "\n",
    "#p = create_entangled_state([0])\n",
    "#num = np.matmul(np.matmul(P,p),P)\n",
    "# den = np.sum(np.matmul(p,P))\n",
    "# pDet = num/den\n",
    "# print(p)\n",
    "# print(pDet)\n"
   ]
  },
  {
   "cell_type": "markdown",
   "metadata": {},
   "source": []
  },
  {
   "cell_type": "code",
   "execution_count": 192,
   "metadata": {},
   "outputs": [
    {
     "name": "stdout",
     "output_type": "stream",
     "text": [
      "[[ 0 -1]\n",
      " [ 1  0]]\n"
     ]
    },
    {
     "name": "stderr",
     "output_type": "stream",
     "text": [
      "C:\\Users\\Marco\\AppData\\Local\\Packages\\PythonSoftwareFoundation.Python.3.9_qbz5n2kfra8p0\\LocalCache\\local-packages\\Python39\\site-packages\\pennylane\\operation.py:1830: UserWarning: Tensor object acts on overlapping wires; in some PennyLane functions this will lead to undefined behaviour\n",
      "  warnings.warn(\n"
     ]
    }
   ],
   "source": [
    "dev = qml.device(\"default.qubit\", wires=2, shots=1)\n",
    "@qml.qnode(dev)\n",
    "def fig1(wires):\n",
    "    qml.BasisStatePreparation(p,wires=[0,1])\n",
    "    qml.Hadamard(wires=wires[0])\n",
    "    qml.ctrl(G1,wires=wires[0])\n",
    "\n",
    "    return qml.measure()"
   ]
  }
 ],
 "metadata": {
  "kernelspec": {
   "display_name": "Python 3",
   "language": "python",
   "name": "python3"
  },
  "language_info": {
   "codemirror_mode": {
    "name": "ipython",
    "version": 3
   },
   "file_extension": ".py",
   "mimetype": "text/x-python",
   "name": "python",
   "nbconvert_exporter": "python",
   "pygments_lexer": "ipython3",
   "version": "3.9.13"
  },
  "orig_nbformat": 4
 },
 "nbformat": 4,
 "nbformat_minor": 2
}
