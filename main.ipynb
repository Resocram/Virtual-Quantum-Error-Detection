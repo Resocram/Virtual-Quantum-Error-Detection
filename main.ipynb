{
 "cells": [
  {
   "cell_type": "code",
   "execution_count": 32,
   "metadata": {},
   "outputs": [],
   "source": [
    "# imported dependencies\n",
    "import pennylane as qml\n",
    "from itertools import product\n",
    "import numpy as np"
   ]
  },
  {
   "cell_type": "code",
   "execution_count": 57,
   "metadata": {},
   "outputs": [
    {
     "name": "stdout",
     "output_type": "stream",
     "text": [
      "Identity(wires=[0])\n",
      "PauliZ(wires=[1])\n",
      "PauliZ(wires=[0])\n",
      "PauliZ(wires=[0]) @ PauliZ(wires=[1])\n",
      "PauliX(wires=[1])\n",
      "PauliY(wires=[1])\n",
      "PauliZ(wires=[0]) @ PauliX(wires=[1])\n",
      "PauliZ(wires=[0]) @ PauliY(wires=[1])\n",
      "PauliX(wires=[0])\n",
      "PauliX(wires=[0]) @ PauliZ(wires=[1])\n",
      "PauliY(wires=[0])\n",
      "PauliY(wires=[0]) @ PauliZ(wires=[1])\n",
      "PauliX(wires=[0]) @ PauliX(wires=[1])\n",
      "PauliX(wires=[0]) @ PauliY(wires=[1])\n",
      "PauliY(wires=[0]) @ PauliX(wires=[1])\n",
      "PauliY(wires=[0]) @ PauliY(wires=[1])\n"
     ]
    }
   ],
   "source": [
    "from pennylane.pauli import pauli_group\n",
    "n_qubits = 2\n",
    "for p in pauli_group(n_qubits):\n",
    "\n",
    "    matrix = qml.matrix(p)\n",
    "    identityMatrix = -np.identity(matrix.shape[0])\n",
    "    # isNegative = np.allclose(matrix,identityMatrix)\n",
    "    # if isNegative:\n",
    "    #     print(\"wow\")\n",
    "    #print(qml.matrix(p))\n",
    "    print(p)\n"
   ]
  },
  {
   "cell_type": "code",
   "execution_count": 483,
   "metadata": {},
   "outputs": [
    {
     "name": "stdout",
     "output_type": "stream",
     "text": [
      "[[0 0 0 1]\n",
      " [0 0 1 0]\n",
      " [0 1 0 0]\n",
      " [1 0 0 0]]\n"
     ]
    }
   ],
   "source": [
    "## 2-qubit Pauli Group\n",
    "# Encode 1 logical qubit into 2 physical qubits\n",
    "S1 = qml.PauliX(wires=[1]) @ qml.PauliX(wires=[2])\n",
    "#S2 = qml.Identity(wires=[0]) @ qml.Identity(wires=[0])\n",
    "#qml.is_commuting(S1,S2)\n",
    "# Stabilizer group aka bodyguard\n",
    "# S = [qml.matrix(S1),qml.matrix(S2)]\n",
    "# P = 1/2 * (S[0] + S[1])\n",
    "# P = qml.Hermitian(P,wires=[0,1])\n",
    "G1 = S1\n",
    "print(qml.matrix(G1))"
   ]
  },
  {
   "cell_type": "code",
   "execution_count": 9,
   "metadata": {},
   "outputs": [
    {
     "name": "stdout",
     "output_type": "stream",
     "text": [
      "0: ──H────╭●─╭●─┤ ╭<X@X>\n",
      "1: ──X──X─╰Z─│──┤ ╰<X@X>\n",
      "2: ──Y──Y────╰Z─┤       \n"
     ]
    },
    {
     "data": {
      "text/plain": [
       "tensor(-1., requires_grad=True)"
      ]
     },
     "execution_count": 9,
     "metadata": {},
     "output_type": "execute_result"
    }
   ],
   "source": [
    "dev = qml.device(\"default.mixed\", wires=3, shots=1)\n",
    "\n",
    "\n",
    "\n",
    "@qml.qnode(dev)\n",
    "def hadamard_test(wires):\n",
    "    #def create_entangled_state(wires):\n",
    "    qml.PauliX(wires=[1])\n",
    "    qml.PauliX(wires=[1])\n",
    "    qml.PauliY(wires=[2])\n",
    "    qml.PauliY(wires=[2])\n",
    "    \n",
    "    #qml.PauliZ(wires=wires[1])\n",
    "    #qml.PauliZ(wires=wires[2])\n",
    "    qml.Hadamard(wires=wires[0])\n",
    "    #qml.PhaseFlip(1,wires=[0])\n",
    "    #create_entangled_state(wires)\n",
    "    #qml.Hadamard(wires=wires[2])\n",
    "    qml.ctrl(qml.PauliZ,control=wires[0])(wires=[1])\n",
    "    qml.ctrl(qml.PauliZ,control=wires[0])(wires=[2])\n",
    "    return qml.expval(qml.PauliX(0) @ qml.PauliX(1))\n",
    "    return qml.expval(qml.PauliX(0)), qml.expval(qml.PauliX(1)), qml.expval(qml.PauliX(2))\n",
    "    #return qml.expval(qml.PauliX(0))\n",
    "    #return qml.measure(qml.PauliX(0))\n",
    "    #return qml.sample(qml.PauliZ(wires=0))\n",
    "    #return qml.measure(qml.PauliX(0))\n",
    "    #return qml.measure(qml.PauliX(0))\n",
    "print(qml.draw(hadamard_test)([0,1,2]))\n",
    "\n",
    "#create_entangled_state(wires=[0,1,2])\n",
    "\n",
    "# sum = 0\n",
    "# sum2 = 0\n",
    "# #sum3 = 0\n",
    "# for i in range(0,1000):\n",
    "#     a,b = hadamard_test(wires=[0,1])\n",
    "#     sum += a\n",
    "#     sum2 += b\n",
    "#     #sum3 += c\n",
    "# print(sum)\n",
    "# print(sum2)\n",
    "# #print(sum3)\n",
    "hadamard_test(wires=[0,1,2])\n",
    "\n",
    "#p = create_entangled_state([0])\n",
    "#num = np.matmul(np.matmul(P,p),P)\n",
    "# den = np.sum(np.matmul(p,P))\n",
    "# pDet = num/den\n",
    "# print(p)\n",
    "# print(pDet)\n"
   ]
  },
  {
   "cell_type": "markdown",
   "metadata": {},
   "source": []
  },
  {
   "cell_type": "code",
   "execution_count": 3,
   "metadata": {},
   "outputs": [
    {
     "name": "stdout",
     "output_type": "stream",
     "text": [
      "[0.70710678+0.j 0.        +0.j 0.        +0.j 0.70710678+0.j]\n"
     ]
    }
   ],
   "source": [
    "dev = qml.device(\"default.qubit\", wires=2)\n",
    "\n",
    "@qml.qnode(dev)\n",
    "def asdf():\n",
    "    qml.Hadamard(wires=0)\n",
    "    qml.CNOT(wires=[0, 1])\n",
    "    qml.PauliX(wires=0)\n",
    "    qml.PauliX(wires=1)\n",
    "    return qml.state()\n",
    "\n",
    "result = asdf()\n",
    "print(result)"
   ]
  },
  {
   "cell_type": "code",
   "execution_count": 493,
   "metadata": {},
   "outputs": [],
   "source": [
    "@qml.qnode(qml.device('lightning.qubit', wires=2))\n",
    "def circuit():\n",
    "    qml.Hadamard(0)\n",
    "    qml.CRX(5, wires=[0, 1])\n",
    "    qml.Rot([1,2,3], wires=[1])\n",
    "    qml.CRX(7, wires=[0, 1])\n",
    "    return qml.expval(qml.PauliZ(0) @ qml.PauliZ(1))"
   ]
  },
  {
   "cell_type": "code",
   "execution_count": 494,
   "metadata": {},
   "outputs": [
    {
     "name": "stdout",
     "output_type": "stream",
     "text": [
      "<function circuit at 0x0000021B287BB160>\n"
     ]
    }
   ],
   "source": [
    "print(qml.draw(circuit))"
   ]
  },
  {
   "cell_type": "code",
   "execution_count": 538,
   "metadata": {},
   "outputs": [
    {
     "ename": "ValueError",
     "evalue": "PauliZ: wrong number of wires. 2 wires given, 1 expected.",
     "output_type": "error",
     "traceback": [
      "\u001b[1;31m---------------------------------------------------------------------------\u001b[0m",
      "\u001b[1;31mValueError\u001b[0m                                Traceback (most recent call last)",
      "Cell \u001b[1;32mIn[538], line 23\u001b[0m\n\u001b[0;32m     20\u001b[0m     \u001b[39mreturn\u001b[39;00m [qml\u001b[39m.\u001b[39msample(qml\u001b[39m.\u001b[39mPauliZ(i)) \u001b[39mfor\u001b[39;00m i \u001b[39min\u001b[39;00m \u001b[39mrange\u001b[39m(n_qubits)]\n\u001b[0;32m     22\u001b[0m \u001b[39m# run the circuit and print the measurement results\u001b[39;00m\n\u001b[1;32m---> 23\u001b[0m measurement_results \u001b[39m=\u001b[39m syndrome_measurement_circuit()\n\u001b[0;32m     24\u001b[0m \u001b[39mprint\u001b[39m(measurement_results)\n",
      "File \u001b[1;32m~\\AppData\\Local\\Packages\\PythonSoftwareFoundation.Python.3.9_qbz5n2kfra8p0\\LocalCache\\local-packages\\Python39\\site-packages\\pennylane\\qnode.py:800\u001b[0m, in \u001b[0;36mQNode.__call__\u001b[1;34m(self, *args, **kwargs)\u001b[0m\n\u001b[0;32m    797\u001b[0m         set_shots(\u001b[39mself\u001b[39m\u001b[39m.\u001b[39m_original_device, override_shots)(\u001b[39mself\u001b[39m\u001b[39m.\u001b[39m_update_gradient_fn)()\n\u001b[0;32m    799\u001b[0m \u001b[39m# construct the tape\u001b[39;00m\n\u001b[1;32m--> 800\u001b[0m \u001b[39mself\u001b[39;49m\u001b[39m.\u001b[39;49mconstruct(args, kwargs)\n\u001b[0;32m    802\u001b[0m cache \u001b[39m=\u001b[39m \u001b[39mself\u001b[39m\u001b[39m.\u001b[39mexecute_kwargs\u001b[39m.\u001b[39mget(\u001b[39m\"\u001b[39m\u001b[39mcache\u001b[39m\u001b[39m\"\u001b[39m, \u001b[39mFalse\u001b[39;00m)\n\u001b[0;32m    803\u001b[0m using_custom_cache \u001b[39m=\u001b[39m (\n\u001b[0;32m    804\u001b[0m     \u001b[39mhasattr\u001b[39m(cache, \u001b[39m\"\u001b[39m\u001b[39m__getitem__\u001b[39m\u001b[39m\"\u001b[39m)\n\u001b[0;32m    805\u001b[0m     \u001b[39mand\u001b[39;00m \u001b[39mhasattr\u001b[39m(cache, \u001b[39m\"\u001b[39m\u001b[39m__setitem__\u001b[39m\u001b[39m\"\u001b[39m)\n\u001b[0;32m    806\u001b[0m     \u001b[39mand\u001b[39;00m \u001b[39mhasattr\u001b[39m(cache, \u001b[39m\"\u001b[39m\u001b[39m__delitem__\u001b[39m\u001b[39m\"\u001b[39m)\n\u001b[0;32m    807\u001b[0m )\n",
      "File \u001b[1;32m~\\AppData\\Local\\Packages\\PythonSoftwareFoundation.Python.3.9_qbz5n2kfra8p0\\LocalCache\\local-packages\\Python39\\site-packages\\pennylane\\qnode.py:711\u001b[0m, in \u001b[0;36mQNode.construct\u001b[1;34m(self, args, kwargs)\u001b[0m\n\u001b[0;32m    708\u001b[0m \u001b[39mdef\u001b[39;00m \u001b[39mconstruct\u001b[39m(\u001b[39mself\u001b[39m, args, kwargs):\n\u001b[0;32m    709\u001b[0m     \u001b[39m\"\"\"Call the quantum function with a tape context, ensuring the operations get queued.\"\"\"\u001b[39;00m\n\u001b[1;32m--> 711\u001b[0m     \u001b[39mself\u001b[39m\u001b[39m.\u001b[39m_tape \u001b[39m=\u001b[39m make_qscript(\u001b[39mself\u001b[39m\u001b[39m.\u001b[39mfunc)(\u001b[39m*\u001b[39margs, \u001b[39m*\u001b[39m\u001b[39m*\u001b[39mkwargs)\n\u001b[0;32m    712\u001b[0m     \u001b[39mself\u001b[39m\u001b[39m.\u001b[39m_tape\u001b[39m.\u001b[39m_queue_category \u001b[39m=\u001b[39m \u001b[39m\"\u001b[39m\u001b[39m_ops\u001b[39m\u001b[39m\"\u001b[39m\n\u001b[0;32m    713\u001b[0m     \u001b[39mself\u001b[39m\u001b[39m.\u001b[39m_qfunc_output \u001b[39m=\u001b[39m \u001b[39mself\u001b[39m\u001b[39m.\u001b[39mtape\u001b[39m.\u001b[39m_qfunc_output\n",
      "File \u001b[1;32m~\\AppData\\Local\\Packages\\PythonSoftwareFoundation.Python.3.9_qbz5n2kfra8p0\\LocalCache\\local-packages\\Python39\\site-packages\\pennylane\\tape\\qscript.py:1346\u001b[0m, in \u001b[0;36mmake_qscript.<locals>.wrapper\u001b[1;34m(*args, **kwargs)\u001b[0m\n\u001b[0;32m   1344\u001b[0m \u001b[39mdef\u001b[39;00m \u001b[39mwrapper\u001b[39m(\u001b[39m*\u001b[39margs, \u001b[39m*\u001b[39m\u001b[39m*\u001b[39mkwargs):\n\u001b[0;32m   1345\u001b[0m     \u001b[39mwith\u001b[39;00m AnnotatedQueue() \u001b[39mas\u001b[39;00m q:\n\u001b[1;32m-> 1346\u001b[0m         result \u001b[39m=\u001b[39m fn(\u001b[39m*\u001b[39margs, \u001b[39m*\u001b[39m\u001b[39m*\u001b[39mkwargs)\n\u001b[0;32m   1348\u001b[0m     qscript \u001b[39m=\u001b[39m QuantumScript\u001b[39m.\u001b[39mfrom_queue(q)\n\u001b[0;32m   1349\u001b[0m     qscript\u001b[39m.\u001b[39m_qfunc_output \u001b[39m=\u001b[39m result\n",
      "Cell \u001b[1;32mIn[538], line 17\u001b[0m, in \u001b[0;36msyndrome_measurement_circuit\u001b[1;34m()\u001b[0m\n\u001b[0;32m     15\u001b[0m \u001b[39m# measure stabilizer generator G1\u001b[39;00m\n\u001b[0;32m     16\u001b[0m \u001b[39mfor\u001b[39;00m i \u001b[39min\u001b[39;00m \u001b[39mrange\u001b[39m(k_logical):\n\u001b[1;32m---> 17\u001b[0m     qml\u001b[39m.\u001b[39;49mPauliZ(wires\u001b[39m=\u001b[39;49m\u001b[39mrange\u001b[39;49m(n_qubits)) \u001b[39m@\u001b[39m qml\u001b[39m.\u001b[39mHadamard(wires\u001b[39m=\u001b[39mn_qubits\u001b[39m+\u001b[39mi)\n\u001b[0;32m     19\u001b[0m \u001b[39m# measure in the computational basis\u001b[39;00m\n\u001b[0;32m     20\u001b[0m \u001b[39mreturn\u001b[39;00m [qml\u001b[39m.\u001b[39msample(qml\u001b[39m.\u001b[39mPauliZ(i)) \u001b[39mfor\u001b[39;00m i \u001b[39min\u001b[39;00m \u001b[39mrange\u001b[39m(n_qubits)]\n",
      "File \u001b[1;32m~\\AppData\\Local\\Packages\\PythonSoftwareFoundation.Python.3.9_qbz5n2kfra8p0\\LocalCache\\local-packages\\Python39\\site-packages\\pennylane\\ops\\qubit\\non_parametric_ops.py:513\u001b[0m, in \u001b[0;36mPauliZ.__init__\u001b[1;34m(self, wires, do_queue, id, *params)\u001b[0m\n\u001b[0;32m    512\u001b[0m \u001b[39mdef\u001b[39;00m \u001b[39m__init__\u001b[39m(\u001b[39mself\u001b[39m, \u001b[39m*\u001b[39mparams, wires\u001b[39m=\u001b[39m\u001b[39mNone\u001b[39;00m, do_queue\u001b[39m=\u001b[39m\u001b[39mTrue\u001b[39;00m, \u001b[39mid\u001b[39m\u001b[39m=\u001b[39m\u001b[39mNone\u001b[39;00m):\n\u001b[1;32m--> 513\u001b[0m     \u001b[39msuper\u001b[39;49m()\u001b[39m.\u001b[39;49m\u001b[39m__init__\u001b[39;49m(\u001b[39m*\u001b[39;49mparams, wires\u001b[39m=\u001b[39;49mwires, do_queue\u001b[39m=\u001b[39;49mdo_queue, \u001b[39mid\u001b[39;49m\u001b[39m=\u001b[39;49m\u001b[39mid\u001b[39;49m)\n\u001b[0;32m    514\u001b[0m     \u001b[39mself\u001b[39m\u001b[39m.\u001b[39m_pauli_rep \u001b[39m=\u001b[39m qml\u001b[39m.\u001b[39mpauli\u001b[39m.\u001b[39mPauliSentence({qml\u001b[39m.\u001b[39mpauli\u001b[39m.\u001b[39mPauliWord({\u001b[39mself\u001b[39m\u001b[39m.\u001b[39mwires[\u001b[39m0\u001b[39m]: \u001b[39m\"\u001b[39m\u001b[39mZ\u001b[39m\u001b[39m\"\u001b[39m}): \u001b[39m1.0\u001b[39m})\n",
      "File \u001b[1;32m~\\AppData\\Local\\Packages\\PythonSoftwareFoundation.Python.3.9_qbz5n2kfra8p0\\LocalCache\\local-packages\\Python39\\site-packages\\pennylane\\operation.py:1561\u001b[0m, in \u001b[0;36mOperation.__init__\u001b[1;34m(self, wires, do_queue, id, *params)\u001b[0m\n\u001b[0;32m   1558\u001b[0m \u001b[39mdef\u001b[39;00m \u001b[39m__init__\u001b[39m(\u001b[39mself\u001b[39m, \u001b[39m*\u001b[39mparams, wires\u001b[39m=\u001b[39m\u001b[39mNone\u001b[39;00m, do_queue\u001b[39m=\u001b[39m\u001b[39mTrue\u001b[39;00m, \u001b[39mid\u001b[39m\u001b[39m=\u001b[39m\u001b[39mNone\u001b[39;00m):\n\u001b[0;32m   1560\u001b[0m     \u001b[39mself\u001b[39m\u001b[39m.\u001b[39m_inverse \u001b[39m=\u001b[39m \u001b[39mFalse\u001b[39;00m\n\u001b[1;32m-> 1561\u001b[0m     \u001b[39msuper\u001b[39;49m()\u001b[39m.\u001b[39;49m\u001b[39m__init__\u001b[39;49m(\u001b[39m*\u001b[39;49mparams, wires\u001b[39m=\u001b[39;49mwires, do_queue\u001b[39m=\u001b[39;49mdo_queue, \u001b[39mid\u001b[39;49m\u001b[39m=\u001b[39;49m\u001b[39mid\u001b[39;49m)\n\u001b[0;32m   1563\u001b[0m     \u001b[39m# check the grad_recipe validity\u001b[39;00m\n\u001b[0;32m   1564\u001b[0m     \u001b[39mif\u001b[39;00m \u001b[39mself\u001b[39m\u001b[39m.\u001b[39mgrad_recipe \u001b[39mis\u001b[39;00m \u001b[39mNone\u001b[39;00m:\n\u001b[0;32m   1565\u001b[0m         \u001b[39m# Make sure grad_recipe is an iterable of correct length instead of None\u001b[39;00m\n",
      "File \u001b[1;32m~\\AppData\\Local\\Packages\\PythonSoftwareFoundation.Python.3.9_qbz5n2kfra8p0\\LocalCache\\local-packages\\Python39\\site-packages\\pennylane\\operation.py:882\u001b[0m, in \u001b[0;36mOperator.__init__\u001b[1;34m(self, wires, do_queue, id, *params)\u001b[0m\n\u001b[0;32m    877\u001b[0m         \u001b[39mraise\u001b[39;00m \u001b[39mValueError\u001b[39;00m(\n\u001b[0;32m    878\u001b[0m             \u001b[39mf\u001b[39m\u001b[39m\"\u001b[39m\u001b[39m{\u001b[39;00m\u001b[39mself\u001b[39m\u001b[39m.\u001b[39mname\u001b[39m}\u001b[39;00m\u001b[39m: wrong number of wires. \u001b[39m\u001b[39m\"\u001b[39m \u001b[39mf\u001b[39m\u001b[39m\"\u001b[39m\u001b[39mAt least one wire has to be given.\u001b[39m\u001b[39m\"\u001b[39m\n\u001b[0;32m    879\u001b[0m         )\n\u001b[0;32m    881\u001b[0m \u001b[39melif\u001b[39;00m \u001b[39mlen\u001b[39m(\u001b[39mself\u001b[39m\u001b[39m.\u001b[39m_wires) \u001b[39m!=\u001b[39m \u001b[39mself\u001b[39m\u001b[39m.\u001b[39mnum_wires:\n\u001b[1;32m--> 882\u001b[0m     \u001b[39mraise\u001b[39;00m \u001b[39mValueError\u001b[39;00m(\n\u001b[0;32m    883\u001b[0m         \u001b[39mf\u001b[39m\u001b[39m\"\u001b[39m\u001b[39m{\u001b[39;00m\u001b[39mself\u001b[39m\u001b[39m.\u001b[39mname\u001b[39m}\u001b[39;00m\u001b[39m: wrong number of wires. \u001b[39m\u001b[39m\"\u001b[39m\n\u001b[0;32m    884\u001b[0m         \u001b[39mf\u001b[39m\u001b[39m\"\u001b[39m\u001b[39m{\u001b[39;00m\u001b[39mlen\u001b[39m(\u001b[39mself\u001b[39m\u001b[39m.\u001b[39m_wires)\u001b[39m}\u001b[39;00m\u001b[39m wires given, \u001b[39m\u001b[39m{\u001b[39;00m\u001b[39mself\u001b[39m\u001b[39m.\u001b[39mnum_wires\u001b[39m}\u001b[39;00m\u001b[39m expected.\u001b[39m\u001b[39m\"\u001b[39m\n\u001b[0;32m    885\u001b[0m     )\n\u001b[0;32m    887\u001b[0m \u001b[39mself\u001b[39m\u001b[39m.\u001b[39m_check_batching(params)\n\u001b[0;32m    889\u001b[0m \u001b[39mself\u001b[39m\u001b[39m.\u001b[39mdata \u001b[39m=\u001b[39m \u001b[39mlist\u001b[39m(params)  \u001b[39m#: list[Any]: parameters of the operator\u001b[39;00m\n",
      "\u001b[1;31mValueError\u001b[0m: PauliZ: wrong number of wires. 2 wires given, 1 expected."
     ]
    }
   ],
   "source": [
    "import pennylane as qml\n",
    "\n",
    "n_qubits = 2  # number of physical qubits\n",
    "k_logical = 1  # number of logical qubits\n",
    "G1 = [qml.PauliX(0) @ qml.PauliX(1)]  # stabilizer generator\n",
    "\n",
    "dev = qml.device('default.qubit', wires=n_qubits)\n",
    "\n",
    "@qml.qnode(dev)\n",
    "def test():\n",
    "    # apply Hadamard gates to all qubits\n",
    "    for i in range(n_qubits):\n",
    "        qml.Hadamard(wires=i)\n",
    "\n",
    "    # measure stabilizer generator G1\n",
    "    for i in range(k_logical):\n",
    "        qml.PauliZ(wires=range(n_qubits)) @ qml.Hadamard(wires=n_qubits+i)\n",
    "\n",
    "    # measure in the computational basis\n",
    "    return [qml.sample(qml.PauliZ(i)) for i in range(n_qubits)]\n",
    "\n",
    "# run the circuit and print the measurement results\n",
    "measurement_results = syndrome_measurement_circuit()\n",
    "print(measurement_results)"
   ]
  },
  {
   "cell_type": "code",
   "execution_count": null,
   "metadata": {},
   "outputs": [],
   "source": []
  }
 ],
 "metadata": {
  "kernelspec": {
   "display_name": "Python 3",
   "language": "python",
   "name": "python3"
  },
  "language_info": {
   "codemirror_mode": {
    "name": "ipython",
    "version": 3
   },
   "file_extension": ".py",
   "mimetype": "text/x-python",
   "name": "python",
   "nbconvert_exporter": "python",
   "pygments_lexer": "ipython3",
   "version": "3.9.13"
  },
  "orig_nbformat": 4
 },
 "nbformat": 4,
 "nbformat_minor": 2
}
