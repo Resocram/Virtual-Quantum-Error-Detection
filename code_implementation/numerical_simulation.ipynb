{
 "cells": [
  {
   "cell_type": "code",
   "execution_count": 9,
   "metadata": {},
   "outputs": [
    {
     "data": {
      "text/plain": [
       "'0.28.0'"
      ]
     },
     "execution_count": 9,
     "metadata": {},
     "output_type": "execute_result"
    }
   ],
   "source": [
    "# imported dependencies\n",
    "import pennylane as qml\n",
    "import numpy as np\n",
    "import random\n",
    "import stabilizer as stabilizers\n",
    "from scipy.linalg import expm\n",
    "from helper_functions import generate_density_matrix"
   ]
  },
  {
   "attachments": {
    "image.png": {
     "image/png": "[encoded data removed]"
    }
   },
   "cell_type": "markdown",
   "metadata": {
    "slideshow": {
     "slide_type": "notes"
    }
   },
   "source": [
    "![image.png](attachment:image.png)"
   ]
  },
  {
   "cell_type": "code",
   "execution_count": 2,
   "metadata": {},
   "outputs": [],
   "source": [
    "# Generates one unitary gate\n",
    "def get_unitary_gate(ZL, XL):\n",
    "  theta_i = np.random.uniform(0, 2*np.pi)\n",
    "  theta_i_prime = np.random.uniform(0, 2*np.pi)\n",
    "  exp_Z_L = expm(1j * theta_i * ZL)\n",
    "  exp_X_L = expm(1j * theta_i_prime * XL)\n",
    "    \n",
    "  return exp_Z_L @ exp_X_L"
   ]
  },
  {
   "cell_type": "code",
   "execution_count": 3,
   "metadata": {},
   "outputs": [],
   "source": [
    "# Generate a list of L unitary gates to apply to the density matrix \n",
    "def get_ulist(length, ZL, XL):\n",
    "    u_list = []\n",
    "    for i in range(length):\n",
    "        u_list.append(get_unitary_gate(ZL, XL))\n",
    "    return u_list"
   ]
  },
  {
   "cell_type": "code",
   "execution_count": 4,
   "metadata": {},
   "outputs": [],
   "source": [
    "def generate_zero_density_matrix():\n",
    "    state = np.array([1,0,0,0,0,0,0,0,0,0,0,0,0,0,0,0])\n",
    "    rho = np.outer(state, np.conj(state).T)\n",
    "    return rho"
   ]
  },
  {
   "cell_type": "code",
   "execution_count": 5,
   "metadata": {},
   "outputs": [],
   "source": [
    "def generate_noiseless_state(u_list):\n",
    "    pid = generate_zero_density_matrix()\n",
    "    for U in u_list:\n",
    "       pid = U @ pid @ U.conj().T\n",
    "    return pid\n"
   ]
  },
  {
   "cell_type": "code",
   "execution_count": 6,
   "metadata": {},
   "outputs": [],
   "source": [
    "def generate_VQED(L,sep):\n",
    "    # Length L because we have L ancilla qubits \n",
    "    estimation_wires = [i for i in range(int(L/sep))]\n",
    "    \n",
    "    # 4 because that is the size of our stabilizers\n",
    "    target_wires = [int(L/sep) + i for i in range(4)]\n",
    "    dev = qml.device(\"default.mixed\", wires=(len(estimation_wires+target_wires)))\n",
    "    @qml.qnode(dev)\n",
    "    def VQED(stabilizer_list, unitary_list, O):\n",
    "        for wire in estimation_wires:\n",
    "            qml.Hadamard(wires=wire)\n",
    "        for l in range(len(estimation_wires)):\n",
    "            s_i = stabilizer_list[l][0]\n",
    "            s_j = stabilizer_list[l][1]\n",
    "            for separation in range(sep):\n",
    "                U = unitary_list[sep*l+separation]\n",
    "                qml.QubitUnitary(U, wires=target_wires)\n",
    "            qml.BitFlip(0.1, wires=estimation_wires[l])\n",
    "            qml.ControlledQubitUnitary(s_i, control_wires=estimation_wires[l], wires=target_wires, control_values=\"0\")\n",
    "            qml.ControlledQubitUnitary(s_j, control_wires=estimation_wires[l], wires=target_wires, control_values=\"1\")\n",
    "        prod = qml.PauliX(estimation_wires[0])\n",
    "        for wire in range(1,len(estimation_wires)):\n",
    "            prod = prod @ qml.PauliX(estimation_wires[wire])\n",
    "\n",
    "        return qml.expval(prod), qml.expval(qml.Hermitian(O, wires=target_wires))\n",
    "    return VQED"
   ]
  },
  {
   "cell_type": "code",
   "execution_count": 7,
   "metadata": {},
   "outputs": [
    {
     "name": "stdout",
     "output_type": "stream",
     "text": [
      "a is 0.0\n",
      "b is 0.0\n",
      "infidelity: nan\n",
      "{(100, 50): nan}\n"
     ]
    },
    {
     "name": "stderr",
     "output_type": "stream",
     "text": [
      "<ipython-input-7-441c63bc3c2c>:26: RuntimeWarning: invalid value encountered in double_scalars\n",
      "  print(\"infidelity: \"+ str(1-b/a))\n",
      "<ipython-input-7-441c63bc3c2c>:27: RuntimeWarning: invalid value encountered in double_scalars\n",
      "  infidelities[(l,sep)] = 1 - b/a\n"
     ]
    },
    {
     "name": "stdout",
     "output_type": "stream",
     "text": [
      "a is 10.000000000000782\n",
      "b is 5.000000000000788\n",
      "infidelity: 0.49999999999996025\n",
      "{(100, 50): nan, (80, 20): 0.49999999999996025}\n",
      "a is 10.000000000000197\n",
      "b is 0.0\n",
      "infidelity: 1.0\n",
      "{(100, 50): nan, (80, 20): 0.49999999999996025, (80, 80): 1.0}\n"
     ]
    },
    {
     "ename": "ValueError",
     "evalue": "This device does not currently support computations on more than 23 wires",
     "output_type": "error",
     "traceback": [
      "\u001b[0;31m---------------------------------------------------------------------------\u001b[0m",
      "\u001b[0;31mValueError\u001b[0m                                Traceback (most recent call last)",
      "\u001b[1;32m/Users/joshuayellowley/Documents/school/cpen400q/project/numerical_simulation.ipynb Cell 8\u001b[0m in \u001b[0;36m1\n\u001b[1;32m     <a href='vscode-notebook-cell:/Users/joshuayellowley/Documents/school/cpen400q/project/numerical_simulation.ipynb#X10sZmlsZQ%3D%3D?line=12'>13</a>\u001b[0m a \u001b[39m=\u001b[39m \u001b[39m0\u001b[39m\n\u001b[1;32m     <a href='vscode-notebook-cell:/Users/joshuayellowley/Documents/school/cpen400q/project/numerical_simulation.ipynb#X10sZmlsZQ%3D%3D?line=13'>14</a>\u001b[0m b \u001b[39m=\u001b[39m \u001b[39m0\u001b[39m  \n\u001b[0;32m---> <a href='vscode-notebook-cell:/Users/joshuayellowley/Documents/school/cpen400q/project/numerical_simulation.ipynb#X10sZmlsZQ%3D%3D?line=14'>15</a>\u001b[0m VQED \u001b[39m=\u001b[39m generate_VQED(l,sep)\n\u001b[1;32m     <a href='vscode-notebook-cell:/Users/joshuayellowley/Documents/school/cpen400q/project/numerical_simulation.ipynb#X10sZmlsZQ%3D%3D?line=15'>16</a>\u001b[0m U_list \u001b[39m=\u001b[39m get_ulist(l, ZL, XL)\n\u001b[1;32m     <a href='vscode-notebook-cell:/Users/joshuayellowley/Documents/school/cpen400q/project/numerical_simulation.ipynb#X10sZmlsZQ%3D%3D?line=16'>17</a>\u001b[0m noiseless_state \u001b[39m=\u001b[39m generate_noiseless_state(U_list)\n",
      "\u001b[1;32m/Users/joshuayellowley/Documents/school/cpen400q/project/numerical_simulation.ipynb Cell 8\u001b[0m in \u001b[0;36m7\n\u001b[1;32m      <a href='vscode-notebook-cell:/Users/joshuayellowley/Documents/school/cpen400q/project/numerical_simulation.ipynb#X10sZmlsZQ%3D%3D?line=4'>5</a>\u001b[0m \u001b[39m# 4 because that is the size of our stabilizers\u001b[39;00m\n\u001b[1;32m      <a href='vscode-notebook-cell:/Users/joshuayellowley/Documents/school/cpen400q/project/numerical_simulation.ipynb#X10sZmlsZQ%3D%3D?line=5'>6</a>\u001b[0m target_wires \u001b[39m=\u001b[39m [\u001b[39mint\u001b[39m(L\u001b[39m/\u001b[39msep) \u001b[39m+\u001b[39m i \u001b[39mfor\u001b[39;00m i \u001b[39min\u001b[39;00m \u001b[39mrange\u001b[39m(\u001b[39m4\u001b[39m)]\n\u001b[0;32m----> <a href='vscode-notebook-cell:/Users/joshuayellowley/Documents/school/cpen400q/project/numerical_simulation.ipynb#X10sZmlsZQ%3D%3D?line=6'>7</a>\u001b[0m dev \u001b[39m=\u001b[39m qml\u001b[39m.\u001b[39;49mdevice(\u001b[39m\"\u001b[39;49m\u001b[39mdefault.mixed\u001b[39;49m\u001b[39m\"\u001b[39;49m, wires\u001b[39m=\u001b[39;49m(\u001b[39mlen\u001b[39;49m(estimation_wires\u001b[39m+\u001b[39;49mtarget_wires)))\n\u001b[1;32m      <a href='vscode-notebook-cell:/Users/joshuayellowley/Documents/school/cpen400q/project/numerical_simulation.ipynb#X10sZmlsZQ%3D%3D?line=7'>8</a>\u001b[0m \u001b[39m@qml\u001b[39m\u001b[39m.\u001b[39mqnode(dev)\n\u001b[1;32m      <a href='vscode-notebook-cell:/Users/joshuayellowley/Documents/school/cpen400q/project/numerical_simulation.ipynb#X10sZmlsZQ%3D%3D?line=8'>9</a>\u001b[0m \u001b[39mdef\u001b[39;00m \u001b[39mVQED\u001b[39m(stabilizer_list, unitary_list, O):\n\u001b[1;32m     <a href='vscode-notebook-cell:/Users/joshuayellowley/Documents/school/cpen400q/project/numerical_simulation.ipynb#X10sZmlsZQ%3D%3D?line=9'>10</a>\u001b[0m     \u001b[39mfor\u001b[39;00m wire \u001b[39min\u001b[39;00m estimation_wires:\n",
      "File \u001b[0;32m~/opt/miniconda3/lib/python3.9/site-packages/pennylane/__init__.py:325\u001b[0m, in \u001b[0;36mdevice\u001b[0;34m(name, *args, **kwargs)\u001b[0m\n\u001b[1;32m    319\u001b[0m     \u001b[39mraise\u001b[39;00m DeviceError(\n\u001b[1;32m    320\u001b[0m         \u001b[39mf\u001b[39m\u001b[39m\"\u001b[39m\u001b[39mThe \u001b[39m\u001b[39m{\u001b[39;00mname\u001b[39m}\u001b[39;00m\u001b[39m plugin requires PennyLane versions \u001b[39m\u001b[39m{\u001b[39;00mplugin_device_class\u001b[39m.\u001b[39mpennylane_requires\u001b[39m}\u001b[39;00m\u001b[39m, \u001b[39m\u001b[39m\"\u001b[39m\n\u001b[1;32m    321\u001b[0m         \u001b[39mf\u001b[39m\u001b[39m\"\u001b[39m\u001b[39mhowever PennyLane version \u001b[39m\u001b[39m{\u001b[39;00m__version__\u001b[39m}\u001b[39;00m\u001b[39m is installed.\u001b[39m\u001b[39m\"\u001b[39m\n\u001b[1;32m    322\u001b[0m     )\n\u001b[1;32m    324\u001b[0m \u001b[39m# Construct the device\u001b[39;00m\n\u001b[0;32m--> 325\u001b[0m dev \u001b[39m=\u001b[39m plugin_device_class(\u001b[39m*\u001b[39;49margs, \u001b[39m*\u001b[39;49m\u001b[39m*\u001b[39;49moptions)\n\u001b[1;32m    327\u001b[0m \u001b[39m# Once the device is constructed, we set its custom expansion function if\u001b[39;00m\n\u001b[1;32m    328\u001b[0m \u001b[39m# any custom decompositions were specified.\u001b[39;00m\n\u001b[1;32m    329\u001b[0m \u001b[39mif\u001b[39;00m custom_decomps \u001b[39mis\u001b[39;00m \u001b[39mnot\u001b[39;00m \u001b[39mNone\u001b[39;00m:\n",
      "File \u001b[0;32m~/opt/miniconda3/lib/python3.9/site-packages/pennylane/devices/default_mixed.py:181\u001b[0m, in \u001b[0;36mDefaultMixed.__init__\u001b[0;34m(self, wires, r_dtype, c_dtype, shots, analytic, readout_prob)\u001b[0m\n\u001b[1;32m    170\u001b[0m \u001b[39mdef\u001b[39;00m \u001b[39m__init__\u001b[39m(\n\u001b[1;32m    171\u001b[0m     \u001b[39mself\u001b[39m,\n\u001b[1;32m    172\u001b[0m     wires,\n\u001b[0;32m   (...)\u001b[0m\n\u001b[1;32m    178\u001b[0m     readout_prob\u001b[39m=\u001b[39m\u001b[39mNone\u001b[39;00m,\n\u001b[1;32m    179\u001b[0m ):\n\u001b[1;32m    180\u001b[0m     \u001b[39mif\u001b[39;00m \u001b[39misinstance\u001b[39m(wires, \u001b[39mint\u001b[39m) \u001b[39mand\u001b[39;00m wires \u001b[39m>\u001b[39m \u001b[39m23\u001b[39m:\n\u001b[0;32m--> 181\u001b[0m         \u001b[39mraise\u001b[39;00m \u001b[39mValueError\u001b[39;00m(\n\u001b[1;32m    182\u001b[0m             \u001b[39m\"\u001b[39m\u001b[39mThis device does not currently support computations on more than 23 wires\u001b[39m\u001b[39m\"\u001b[39m\n\u001b[1;32m    183\u001b[0m         )\n\u001b[1;32m    185\u001b[0m     \u001b[39mself\u001b[39m\u001b[39m.\u001b[39mreadout_err \u001b[39m=\u001b[39m readout_prob\n\u001b[1;32m    186\u001b[0m     \u001b[39m# Check that the readout error probability, if entered, is either integer or float in [0,1]\u001b[39;00m\n",
      "\u001b[0;31mValueError\u001b[0m: This device does not currently support computations on more than 23 wires"
     ]
    }
   ],
   "source": [
    "# NOTE: This code will fail to run as pennylane only supports mixed devices with up to a maximum of 23 wires #\n",
    "\n",
    "G_list = stabilizers.get_4_1_2()[:-2]\n",
    "S_list = stabilizers.get_stabilizers(G_list)\n",
    "ZL = G_list[-2]\n",
    "XL = G_list[-1]\n",
    "\n",
    "N = 10\n",
    "infidelities = {}\n",
    "\n",
    "# L sep\n",
    "combinations = [(100,50),(80,20),(80,80), (100,5), (100,10), (100,20), (100,100)]\n",
    "# hardcode L to 5 since running it anymore takes too long\n",
    "for l,sep in combinations:\n",
    "    a = 0\n",
    "    b = 0  \n",
    "    VQED = generate_VQED(l,sep)\n",
    "    U_list = get_ulist(l, ZL, XL)\n",
    "    noiseless_state = generate_noiseless_state(U_list)\n",
    "    s_sample = [random.sample(S_list, 2) for i in range(int(l/sep))]\n",
    "    for i in range(N):\n",
    "        a_s, O_measurement = VQED(s_sample, U_list, noiseless_state)\n",
    "        b_s = a_s * O_measurement\n",
    "        a += a_s\n",
    "        b += b_s\n",
    "    print(\"a is \" + str(a))\n",
    "    print(\"b is \" + str(b))\n",
    "    print(\"infidelity: \"+ str(1-b/a))\n",
    "    infidelities[(l,sep)] = 1 - b/a\n",
    "    print(infidelities)\n",
    "\n"
   ]
  },
  {
   "cell_type": "code",
   "execution_count": null,
   "metadata": {},
   "outputs": [],
   "source": []
  }
 ],
 "metadata": {
  "kernelspec": {
   "display_name": ".venv",
   "language": "python",
   "name": "python3"
  },
  "language_info": {
   "codemirror_mode": {
    "name": "ipython",
    "version": 3
   },
   "file_extension": ".py",
   "mimetype": "text/x-python",
   "name": "python",
   "nbconvert_exporter": "python",
   "pygments_lexer": "ipython3",
   "version": "3.9.12"
  },
  "orig_nbformat": 4,
  "vscode": {
   "interpreter": {
    "hash": "47873b1648fe905b12a0e1a7e272f20bf6e3da3e7441817495b1ef9ddbb38a05"
   }
  }
 },
 "nbformat": 4,
 "nbformat_minor": 2
}
