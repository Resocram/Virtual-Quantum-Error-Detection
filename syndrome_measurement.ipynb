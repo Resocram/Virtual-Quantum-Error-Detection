{
 "cells": [
  {
   "cell_type": "code",
   "execution_count": 1,
   "metadata": {},
   "outputs": [
    {
     "data": {
      "text/plain": [
       "'0.28.0'"
      ]
     },
     "execution_count": 1,
     "metadata": {},
     "output_type": "execute_result"
    }
   ],
   "source": [
    "# imported dependencies\n",
    "import pennylane as qml\n",
    "from itertools import product\n",
    "import numpy as np\n",
    "import random\n",
    "qml.version()"
   ]
  },
  {
   "cell_type": "code",
   "execution_count": 2,
   "metadata": {},
   "outputs": [],
   "source": [
    "dev = qml.device(\"default.mixed\", wires=5,shots=1)"
   ]
  },
  {
   "cell_type": "code",
   "execution_count": 27,
   "metadata": {},
   "outputs": [],
   "source": [
    "# n = 5 (Physical Qubits)\n",
    "# k = 3 (Logical Qubits)\n",
    "\n",
    "def generate_density_matrix():\n",
    "\n",
    "    # this is the hadamard shit\n",
    "    c1 = 1/np.sqrt(2)\n",
    "    c2 = 1/np.sqrt(2)\n",
    "    state = np.array([c1, 0, 0, 0, 0, 0, 0, c2])\n",
    "    # generate the density matrix\n",
    "    rho = np.outer(state, np.conj(state).T)\n",
    "    return rho"
   ]
  },
  {
   "cell_type": "code",
   "execution_count": 28,
   "metadata": {},
   "outputs": [],
   "source": [
    "@qml.qnode(dev)\n",
    "def syndrome_measurement(density_matrix, estimation_wires,target_wires):\n",
    "    \n",
    "    # should be a density matrix\n",
    "    qml.QubitDensityMatrix(density_matrix, wires=target_wires)\n",
    "    \n",
    "    for wire in estimation_wires:\n",
    "        qml.Hadamard(wires=wire)\n",
    "    \n",
    "    # Introduce Bit Error\n",
    "    qml.BitFlip(0.75,target_wires[0])\n",
    "\n",
    "    #Detects if bit 0 or bit 1 flipped\n",
    "    g1_kron = qml.PauliZ(target_wires[0]) @ qml.PauliZ(target_wires[1]) @ qml.Identity(wires=target_wires[2])\n",
    "\n",
    "    # Detect if bit 1 or bit 2 flipped\n",
    "    g2_kron = qml.Identity(wires=target_wires[0]) @ qml.PauliZ(target_wires[1]) @ qml.PauliZ(target_wires[2])\n",
    "    \n",
    "    g1_kron = g1_kron.matrix()\n",
    "    g2_kron = g2_kron.matrix()\n",
    "    \n",
    "    # Apply generators on ancilla bits\n",
    "    qml.ControlledQubitUnitary(g1_kron, control_wires=estimation_wires[0], wires=target_wires)\n",
    "    qml.ControlledQubitUnitary(g2_kron, control_wires=estimation_wires[1], wires=target_wires)\n",
    "\n",
    "    return qml.density_matrix(target_wires)"
   ]
  },
  {
   "cell_type": "code",
   "execution_count": 35,
   "metadata": {},
   "outputs": [
    {
     "name": "stdout",
     "output_type": "stream",
     "text": [
      "0: ──H─────────────────────────────────────╭●────────────┤       \n",
      "1: ──H─────────────────────────────────────│──────╭●─────┤       \n",
      "2: ─╭QubitDensityMatrix(M0)──BitFlip(0.75)─├U(M1)─├U(M2)─┤ ╭State\n",
      "3: ─├QubitDensityMatrix(M0)────────────────├U(M1)─├U(M2)─┤ ├State\n",
      "4: ─╰QubitDensityMatrix(M0)────────────────╰U(M1)─╰U(M2)─┤ ╰State\n"
     ]
    }
   ],
   "source": [
    "estimation_wires = [0, 1]\n",
    "target_wires = [2,3,4]\n",
    "rho_id = generate_density_matrix()\n",
    "\n",
    "print(qml.draw(syndrome_measurement)(rho_id,estimation_wires,target_wires))"
   ]
  },
  {
   "cell_type": "code",
   "execution_count": 36,
   "metadata": {},
   "outputs": [
    {
     "name": "stdout",
     "output_type": "stream",
     "text": [
      "st\n",
      "[0.35355339+0.j 0.        +0.j 0.        +0.j 0.61237244+0.j\n",
      " 0.61237244+0.j 0.        +0.j 0.        +0.j 0.35355339+0.j]\n"
     ]
    }
   ],
   "source": [
    "\n",
    "def density_matrix_to_state(rho):\n",
    "    # Compute the eigenvectors and eigenvalues of the density matrix\n",
    "    eigvals, eigvecs = np.linalg.eig(rho)\n",
    "    # Take the square root of the eigenvalues\n",
    "    sqrt_eigvals = np.sqrt(eigvals)\n",
    "    # Multiply each eigenvector by the square root of the corresponding eigenvalue\n",
    "    state_vectors = [np.multiply(sqrt_eigvals[i], eigvecs[:, i]) for i in range(len(eigvals))]\n",
    "    # Add up all the resulting vectors to get the state vector\n",
    "    state_vector = sum(state_vectors)\n",
    "    # Normalize the state vector\n",
    "    state_vector /= np.linalg.norm(state_vector)\n",
    "    return state_vector\n",
    "\n",
    "rho = syndrome_measurement(rho_id, estimation_wires,target_wires)\n",
    "st = density_matrix_to_state(rho)\n",
    "print(\"st\")\n",
    "print(st)"
   ]
  },
  {
   "cell_type": "code",
   "execution_count": 37,
   "metadata": {},
   "outputs": [
    {
     "name": "stdout",
     "output_type": "stream",
     "text": [
      "rho_id\n",
      "[[0.5 0.  0.  0.  0.  0.  0.  0.5]\n",
      " [0.  0.  0.  0.  0.  0.  0.  0. ]\n",
      " [0.  0.  0.  0.  0.  0.  0.  0. ]\n",
      " [0.  0.  0.  0.  0.  0.  0.  0. ]\n",
      " [0.  0.  0.  0.  0.  0.  0.  0. ]\n",
      " [0.  0.  0.  0.  0.  0.  0.  0. ]\n",
      " [0.  0.  0.  0.  0.  0.  0.  0. ]\n",
      " [0.5 0.  0.  0.  0.  0.  0.  0.5]]\n"
     ]
    }
   ],
   "source": [
    "#Detects if bit 0 or bit 1 flipped\n",
    "g1_kron = qml.PauliZ(0) @ qml.PauliZ(1) @ qml.Identity(2)\n",
    "g1_kron = g1_kron.matrix()\n",
    "\n",
    "# Detect if bit 1 or bit 2 flipped\n",
    "g2_kron = qml.Identity(0) @ qml.PauliZ(1) @ qml.PauliZ(2)\n",
    "g2_kron = g2_kron.matrix()\n",
    "\n",
    "I = qml.Identity(0) @ qml.Identity(1) @ qml.Identity(2)\n",
    "I = I.matrix()\n",
    "p1 = 0.5 * (I + g1_kron)\n",
    "p2 = 0.5 * (I + g2_kron)\n",
    "\n",
    "P = p1 @ p2\n",
    "num = P @ rho @ P\n",
    "\n",
    "# Expectation value of P \n",
    "denom = np.trace(rho @ P)\n",
    "\n",
    "rho_det = num/denom\n",
    "\n",
    "print('rho_id')\n",
    "print(rho_id)"
   ]
  },
  {
   "cell_type": "code",
   "execution_count": 38,
   "metadata": {},
   "outputs": [
    {
     "name": "stdout",
     "output_type": "stream",
     "text": [
      "rho (with noise)\n",
      "[[0.125+0.j 0.   +0.j 0.   +0.j 0.   +0.j 0.   +0.j 0.   +0.j 0.   +0.j\n",
      "  0.125+0.j]\n",
      " [0.   +0.j 0.   +0.j 0.   +0.j 0.   +0.j 0.   +0.j 0.   +0.j 0.   +0.j\n",
      "  0.   +0.j]\n",
      " [0.   +0.j 0.   +0.j 0.   +0.j 0.   +0.j 0.   +0.j 0.   +0.j 0.   +0.j\n",
      "  0.   +0.j]\n",
      " [0.   +0.j 0.   +0.j 0.   +0.j 0.375+0.j 0.375+0.j 0.   +0.j 0.   +0.j\n",
      "  0.   +0.j]\n",
      " [0.   +0.j 0.   +0.j 0.   +0.j 0.375+0.j 0.375+0.j 0.   +0.j 0.   +0.j\n",
      "  0.   +0.j]\n",
      " [0.   +0.j 0.   +0.j 0.   +0.j 0.   +0.j 0.   +0.j 0.   +0.j 0.   +0.j\n",
      "  0.   +0.j]\n",
      " [0.   +0.j 0.   +0.j 0.   +0.j 0.   +0.j 0.   +0.j 0.   +0.j 0.   +0.j\n",
      "  0.   +0.j]\n",
      " [0.125+0.j 0.   +0.j 0.   +0.j 0.   +0.j 0.   +0.j 0.   +0.j 0.   +0.j\n",
      "  0.125+0.j]]\n"
     ]
    }
   ],
   "source": [
    "print(\"rho (with noise)\")\n",
    "print(rho)"
   ]
  },
  {
   "cell_type": "code",
   "execution_count": 39,
   "metadata": {},
   "outputs": [
    {
     "name": "stdout",
     "output_type": "stream",
     "text": [
      "rho_det\n",
      "[[0.5+0.j 0. +0.j 0. +0.j 0. +0.j 0. +0.j 0. +0.j 0. +0.j 0.5+0.j]\n",
      " [0. +0.j 0. +0.j 0. +0.j 0. +0.j 0. +0.j 0. +0.j 0. +0.j 0. +0.j]\n",
      " [0. +0.j 0. +0.j 0. +0.j 0. +0.j 0. +0.j 0. +0.j 0. +0.j 0. +0.j]\n",
      " [0. +0.j 0. +0.j 0. +0.j 0. +0.j 0. +0.j 0. +0.j 0. +0.j 0. +0.j]\n",
      " [0. +0.j 0. +0.j 0. +0.j 0. +0.j 0. +0.j 0. +0.j 0. +0.j 0. +0.j]\n",
      " [0. +0.j 0. +0.j 0. +0.j 0. +0.j 0. +0.j 0. +0.j 0. +0.j 0. +0.j]\n",
      " [0. +0.j 0. +0.j 0. +0.j 0. +0.j 0. +0.j 0. +0.j 0. +0.j 0. +0.j]\n",
      " [0.5+0.j 0. +0.j 0. +0.j 0. +0.j 0. +0.j 0. +0.j 0. +0.j 0.5+0.j]]\n"
     ]
    }
   ],
   "source": [
    "print(\"rho_det\")\n",
    "print(Pdet)\n"
   ]
  },
  {
   "cell_type": "code",
   "execution_count": 34,
   "metadata": {},
   "outputs": [
    {
     "name": "stdout",
     "output_type": "stream",
     "text": [
      "True\n"
     ]
    }
   ],
   "source": [
    "print(np.allclose(rho_id,rho_det))"
   ]
  }
 ],
 "metadata": {
  "kernelspec": {
   "display_name": "base",
   "language": "python",
   "name": "python3"
  },
  "language_info": {
   "codemirror_mode": {
    "name": "ipython",
    "version": 3
   },
   "file_extension": ".py",
   "mimetype": "text/x-python",
   "name": "python",
   "nbconvert_exporter": "python",
   "pygments_lexer": "ipython3",
   "version": "3.9.12"
  },
  "orig_nbformat": 4
 },
 "nbformat": 4,
 "nbformat_minor": 2
}
