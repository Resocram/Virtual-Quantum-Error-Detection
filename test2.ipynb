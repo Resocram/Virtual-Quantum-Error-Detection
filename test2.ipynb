{
 "cells": [
  {
   "cell_type": "code",
   "execution_count": 2,
   "metadata": {},
   "outputs": [
    {
     "data": {
      "text/plain": [
       "'0.29.1'"
      ]
     },
     "execution_count": 2,
     "metadata": {},
     "output_type": "execute_result"
    }
   ],
   "source": [
    "import pennylane as qml\n",
    "import numpy as np"
   ]
  },
  {
   "cell_type": "code",
   "execution_count": 6,
   "metadata": {},
   "outputs": [],
   "source": [
    "def generate_density_matrix():\n",
    "    # this is the hadamard shit\n",
    "    c1 = 1/np.sqrt(2)\n",
    "    c2 = 1/np.sqrt(2)\n",
    "    state = np.array([0.5, 0.5, 0.5, 0,0,0,0.5,0])\n",
    "    \n",
    "    # generate the density matrix\n",
    "    rho = np.outer(state, np.conj(state).T)\n",
    "    return rho"
   ]
  },
  {
   "cell_type": "code",
   "execution_count": 7,
   "metadata": {},
   "outputs": [],
   "source": [
    "dev = qml.device(\"default.mixed\", wires=3)\n",
    "@qml.qnode(dev)\n",
    "def generate_noise(wires):\n",
    "    density_matrix = generate_density_matrix()\n",
    "    qml.QubitDensityMatrix(density_matrix, wires=wires)\n",
    "    # qml.BitFlip(0.9,wires[2])\n",
    "    return qml.density_matrix(wires)"
   ]
  },
  {
   "cell_type": "code",
   "execution_count": 4,
   "metadata": {},
   "outputs": [
    {
     "ename": "NameError",
     "evalue": "name 'generate_noise' is not defined",
     "output_type": "error",
     "traceback": [
      "\u001b[0;31m---------------------------------------------------------------------------\u001b[0m",
      "\u001b[0;31mNameError\u001b[0m                                 Traceback (most recent call last)",
      "Cell \u001b[0;32mIn[4], line 17\u001b[0m\n\u001b[1;32m     14\u001b[0m p2 \u001b[39m=\u001b[39m \u001b[39m0.5\u001b[39m \u001b[39m*\u001b[39m (I \u001b[39m+\u001b[39m G2)\n\u001b[1;32m     15\u001b[0m P \u001b[39m=\u001b[39m p1 \u001b[39m@\u001b[39m p2\n\u001b[0;32m---> 17\u001b[0m rho \u001b[39m=\u001b[39m generate_noise([\u001b[39m0\u001b[39m,\u001b[39m1\u001b[39m,\u001b[39m2\u001b[39m])\n\u001b[1;32m     18\u001b[0m rho_det \u001b[39m=\u001b[39m (P \u001b[39m@\u001b[39m rho \u001b[39m@\u001b[39m P) \u001b[39m/\u001b[39m (np\u001b[39m.\u001b[39mtrace(rho \u001b[39m@\u001b[39m P))\n",
      "\u001b[0;31mNameError\u001b[0m: name 'generate_noise' is not defined"
     ]
    }
   ],
   "source": [
    "G1 = qml.Identity(0) @ qml.PauliZ(1) @ qml.PauliZ(2)\n",
    "G2 = qml.PauliZ(0) @ qml.PauliZ(1) @ qml.Identity(2)\n",
    "\n",
    "G1 = G1.matrix()\n",
    "G2 = G2.matrix()\n",
    "\n",
    "I = qml.Identity(0) @ qml.Identity(1) @ qml.Identity(2)\n",
    "I = I.matrix()\n",
    "\n",
    "O = qml.Identity(0) @ qml.Identity(1) @ qml.PauliZ(2)\n",
    "O = O.matrix()\n",
    "\n",
    "p1 = 0.5 * (I + G1)\n",
    "p2 = 0.5 * (I + G2)\n",
    "P = p1 @ p2\n",
    "\n",
    "rho = generate_density_matrix([0,1,2])\n",
    "rho_det = (P @ rho @ P) / (np.trace(rho @ P))"
   ]
  },
  {
   "cell_type": "code",
   "execution_count": 3,
   "metadata": {},
   "outputs": [
    {
     "ename": "NameError",
     "evalue": "name 'O' is not defined",
     "output_type": "error",
     "traceback": [
      "\u001b[0;31m---------------------------------------------------------------------------\u001b[0m",
      "\u001b[0;31mNameError\u001b[0m                                 Traceback (most recent call last)",
      "Cell \u001b[0;32mIn[3], line 42\u001b[0m\n\u001b[1;32m     38\u001b[0m U3 \u001b[39m=\u001b[39m U3\u001b[39m.\u001b[39mmatrix()\n\u001b[1;32m     40\u001b[0m Ulist \u001b[39m=\u001b[39m [U1, U2, U3]\n\u001b[0;32m---> 42\u001b[0m f \u001b[39m=\u001b[39m generate_fig_2(Ulist, O)\n\u001b[1;32m     44\u001b[0m \u001b[39m# S size of 4 (Assuming generators that we chose should be able to make up the set of S)\u001b[39;00m\n\u001b[1;32m     45\u001b[0m S \u001b[39m=\u001b[39m [G1, G2, G1 \u001b[39m@\u001b[39m G2, I]\n",
      "\u001b[0;31mNameError\u001b[0m: name 'O' is not defined"
     ]
    }
   ],
   "source": [
    "\n",
    "def generate_fig_2(U_list, O):\n",
    "    n_estimation_wires = len(U_list)\n",
    "    n_target_wires = 3\n",
    "\n",
    "    dev = qml.device(\"default.mixed\", wires=(n_estimation_wires + n_target_wires), shots=1)\n",
    "\n",
    "    @qml.qnode(dev)\n",
    "    def VQED(rho_naught, stabilizers_list, estimation_wire, target_wires):\n",
    "        measurements = []\n",
    "        qml.QubitDensityMatrix(rho_naught, wires=target_wires)\n",
    "        for wire in estimation_wires:\n",
    "            qml.Hadamard(wires=wire)\n",
    "\n",
    "        for l, (stabilizer_i_l, stabilizer_j_l) in enumerate(stabilizers_list):\n",
    "            U = U_list[l]\n",
    "            qml.QubitUnitary(U, wires=target_wires)\n",
    "            qml.ControlledQubitUnitary(stabilizer_i_l, control_wires=estimation_wires[l], wires=target_wires, control_values=[False])\n",
    "            qml.ControlledQubitUnitary(stabilizer_j_l, control_wires=estimation_wires[l], wires=target_wires, control_values=[True])\n",
    "        \n",
    "        return qml.density_matrix(target_wires)\n",
    "        L = len(stabilizers_list)\n",
    "\n",
    "        for wire in estimation_wires:\n",
    "            measurements.append(qml.expval(\n",
    "                qml.PauliX(wire)\n",
    "            ))\n",
    "\n",
    "        measurements.append(qml.expval(qml.Hermitian(O, wires=target_wires)))\n",
    "        return measurements\n",
    "\n",
    "    return VQED\n",
    "\n",
    "U1 = qml.Identity(0) @ qml.Identity(1) @ qml.Identity(2)\n",
    "U1 = U1.matrix()\n",
    "U2 = qml.Identity(0) @ qml.Identity(1) @ qml.Identity(2)\n",
    "U2 = U2.matrix()\n",
    "U3 = qml.Identity(0) @ qml.Identity(1) @ qml.Identity(2)\n",
    "U3 = U3.matrix()\n",
    "\n",
    "Ulist = [U1, U2, U3]\n",
    "\n",
    "f = generate_fig_2(Ulist, O)\n",
    "\n",
    "# S size of 4 (Assuming generators that we chose should be able to make up the set of S)\n",
    "S = [G1, G2, G1 @ G2, I]\n",
    "# L = 4\n",
    "\n",
    "estimation_wires=[0, 1, 2]\n",
    "target_wires=[3,4,5]\n",
    "\n",
    "a = 0\n",
    "b = 0\n",
    "N = 1000\n",
    "\n",
    "\n",
    "for i in range(N):\n",
    "    uniform_sample = uniformly_sample_pair(S, len(estimation_wires))\n",
    "    measurements = f(rho,uniform_sample,estimation_wires,target_wires)\n",
    "    a_s = measurements[0]\n",
    "    for sample in measurements[1:-1]:\n",
    "        a_s *= sample\n",
    "    b_s = a_s * measurements[-1]\n",
    "    a += a_s\n",
    "    b += b_s\n",
    "\n",
    "a *= 1/N\n",
    "b *= 1/N\n",
    "print(f\"VQED b/a: {b/a}\")\n",
    "tr = np.trace(rho_det @ O)\n",
    "print(f\"tr[p_detO]: {tr}\")\n",
    "err = abs((tr - b / a) / tr) * 100\n",
    "print(f\"err: {err}%\")\n",
    "\n"
   ]
  }
 ],
 "metadata": {
  "kernelspec": {
   "display_name": ".venv",
   "language": "python",
   "name": "python3"
  },
  "language_info": {
   "codemirror_mode": {
    "name": "ipython",
    "version": 3
   },
   "file_extension": ".py",
   "mimetype": "text/x-python",
   "name": "python",
   "nbconvert_exporter": "python",
   "pygments_lexer": "ipython3",
   "version": "3.9.6"
  },
  "orig_nbformat": 4
 },
 "nbformat": 4,
 "nbformat_minor": 2
}
